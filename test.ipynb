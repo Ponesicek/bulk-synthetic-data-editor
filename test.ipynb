{
 "cells": [
  {
   "cell_type": "code",
   "execution_count": null,
   "id": "3fb6680e",
   "metadata": {},
   "outputs": [],
   "source": [
    "# Globals\n",
    "\n",
    "import numpy as np\n",
    "import openai\n",
    "from sklearn.metrics.pairwise import cosine_similarity\n",
    "\n",
    "# Example: replace with your list of questions\n",
    "questions = [\n",
    "    \"Hey there! How are you doing today?\",\n",
    "    \"You look really good today!\",\n",
    "    \"Can you help me with something?\",\n",
    "    \"Do you want to go out today?\",\n",
    "]\n",
    "\n",
    "client = openai.Client(\n",
    "    base_url=\"http://127.0.0.1:1234/v1\"\n",
    ")  # Adapt to your client initialization"
   ]
  },
  {
   "cell_type": "code",
   "execution_count": null,
   "id": "8f29611b",
   "metadata": {},
   "outputs": [
    {
     "name": "stdout",
     "output_type": "stream",
     "text": [
      "Per-item max similarity to any other item: [0.73575836 0.73575836 0.55402076 0.6671491 ]\n",
      "Mean max similarity: 0.67317164\n"
     ]
    }
   ],
   "source": [
    "# Embedding similarity by dot product\n",
    "\n",
    "embs = []\n",
    "for q in questions:\n",
    "    r = client.embeddings.create(input=q, model=\"text-embedding-nomic-embed-text-v1.5\")\n",
    "    embs.append(np.array(r.data[0].embedding, dtype=np.float32))\n",
    "\n",
    "X = np.vstack(embs)\n",
    "sim_matrix = np.dot(X, X.T)\n",
    "\n",
    "np.fill_diagonal(sim_matrix, 0)  # Ignore self-similarity\n",
    "nn_max = sim_matrix.max(axis=1)\n",
    "\n",
    "print(\"Per-item max similarity to any other item:\", nn_max)\n",
    "print(\"Mean max similarity:\", nn_max.mean())"
   ]
  },
  {
   "cell_type": "code",
   "execution_count": null,
   "id": "48108fec",
   "metadata": {},
   "outputs": [
    {
     "name": "stdout",
     "output_type": "stream",
     "text": [
      "Per-item max similarity to any other item: [0.73575836 0.73575836 0.5540208  0.6671492 ]\n",
      "Mean max similarity: 0.67317164\n"
     ]
    }
   ],
   "source": [
    "# Embedding similarity by cosine similarity\n",
    "\n",
    "# Get embeddings (adapt to your client)\n",
    "embs = []\n",
    "for q in questions:\n",
    "    r = client.embeddings.create(input=q, model=\"text-embedding-nomic-embed-text-v1.5\")\n",
    "    embs.append(np.array(r.data[0].embedding, dtype=np.float32))\n",
    "\n",
    "X = np.vstack(embs)\n",
    "# Normalize to be explicit about cosine similarity\n",
    "X = X / (np.linalg.norm(X, axis=1, keepdims=True) + 1e-12)\n",
    "\n",
    "S = cosine_similarity(X)  # NxN matrix in [-1, 1]\n",
    "\n",
    "# Simple redundancy signal: for each item, max similarity to any other item\n",
    "np.fill_diagonal(S, -1.0)\n",
    "nn_max = S.max(axis=1)\n",
    "print(\"Per-item max similarity to any other item:\", nn_max)\n",
    "print(\"Mean max similarity:\", nn_max.mean())"
   ]
  }
 ],
 "metadata": {
  "kernelspec": {
   "display_name": "FineTuneEditor",
   "language": "python",
   "name": "python3"
  },
  "language_info": {
   "codemirror_mode": {
    "name": "ipython",
    "version": 3
   },
   "file_extension": ".py",
   "mimetype": "text/x-python",
   "name": "python",
   "nbconvert_exporter": "python",
   "pygments_lexer": "ipython3",
   "version": "3.10.11"
  }
 },
 "nbformat": 4,
 "nbformat_minor": 5
}
